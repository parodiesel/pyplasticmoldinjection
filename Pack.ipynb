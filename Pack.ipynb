{
 "cells": [
  {
   "cell_type": "code",
   "execution_count": 27,
   "id": "65c450c2",
   "metadata": {},
   "outputs": [
    {
     "name": "stdout",
     "output_type": "stream",
     "text": [
      "Tiempo de solidificación del puente de union\n",
      "Tc = 1.474 s\n"
     ]
    }
   ],
   "source": [
    "import numpy as np\n",
    "\n",
    "D = (3.50+1.00)/2  # mm\n",
    "a = 8.15e-2        # mm^2/s   # Appendix A. Injection Mold Design Engineering.\n",
    "Tmelt = 230        # Celsius\n",
    "Tnoflow = 176      # Celsius\n",
    "Tcoolant = 140      # Celsius\n",
    "\n",
    "x = D**2/(23.1*a)\n",
    "y = np.log(0.692*(Tmelt-Tcoolant)/(Tnoflow-Tcoolant))\n",
    "Tc = x*y\n",
    "print('Tiempo de solidificación del puente de union')\n",
    "print('Tc =',round(Tc,3),'s')"
   ]
  }
 ],
 "metadata": {
  "kernelspec": {
   "display_name": "Python 3",
   "language": "python",
   "name": "python3"
  },
  "language_info": {
   "codemirror_mode": {
    "name": "ipython",
    "version": 3
   },
   "file_extension": ".py",
   "mimetype": "text/x-python",
   "name": "python",
   "nbconvert_exporter": "python",
   "pygments_lexer": "ipython3",
   "version": "3.8.9"
  }
 },
 "nbformat": 4,
 "nbformat_minor": 5
}
