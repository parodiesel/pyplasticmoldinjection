{
 "cells": [
  {
   "cell_type": "code",
   "execution_count": null,
   "id": "90096cc7",
   "metadata": {},
   "outputs": [],
   "source": [
    "# Fase de Llenado\n",
    "import numpy as np\n",
    "\n",
    "def deltaPresion(Dent, Dsal, Longitud)\n",
    "def deltaTiempo(Dent, Dsal, Longitud)"
   ]
  }
 ],
 "metadata": {
  "language_info": {
   "name": "python"
  }
 },
 "nbformat": 4,
 "nbformat_minor": 5
}
