{
 "cells": [
  {
   "cell_type": "code",
   "execution_count": 51,
   "id": "ce19df9e",
   "metadata": {},
   "outputs": [
    {
     "name": "stdout",
     "output_type": "stream",
     "text": [
      "Tiempo de enfriamiento teorico\n",
      "Tc = 12.652 s\n",
      "Tiempo de enfriamiento según regla general\n",
      "tc = 8.0 s\n"
     ]
    }
   ],
   "source": [
    "import numpy as np\n",
    "\n",
    "h = 2          # mm\n",
    "a = 8.15e-2    # mm^2/s # Appendix A. Injection Mold Design Engineering.\n",
    "Tmelt = 230    # Celsius\n",
    "Teject = 95    # Celsius\n",
    "Tcoolant = 80  # Celsius\n",
    "\n",
    "x = h**2/((np.pi**2)*a)\n",
    "y = np.log((4/np.pi)*(Tmelt-Tcoolant)/(Teject-Tcoolant))\n",
    "Tc = x*y\n",
    "print('Tiempo de enfriamiento teorico')\n",
    "print('Tc =',round(Tc,3),'s')\n",
    "\n",
    "tc = 2.00*h**2\n",
    "print('Tiempo de enfriamiento según regla general')\n",
    "print('tc =',round(tc,3),'s')"
   ]
  },
  {
   "cell_type": "code",
   "execution_count": 43,
   "id": "87aff8b0",
   "metadata": {},
   "outputs": [
    {
     "name": "stdout",
     "output_type": "stream",
     "text": [
      "Calor a discipar\n",
      "Qmolding = 16386.0 J\n"
     ]
    }
   ],
   "source": [
    "mmolding = 0.042 # kg\n",
    "cp = 2890        # J/kg.C # Appendix A\n",
    "\n",
    "Qmolding = mmolding*cp*(Tmelt-Teject)\n",
    "print('Calor a discipar')\n",
    "print('Qmolding =',round(Qmolding,0),'J')"
   ]
  },
  {
   "cell_type": "code",
   "execution_count": 44,
   "id": "b5d9edc8",
   "metadata": {},
   "outputs": [
    {
     "name": "stdout",
     "output_type": "stream",
     "text": [
      "Potencia de enfriamiento\n",
      "Pcooling = 922.0 W\n"
     ]
    }
   ],
   "source": [
    "Pcooling = Qmolding/Tc\n",
    "\n",
    "print('Potencia de enfriamiento')\n",
    "print('Pcooling =',round(Pcooling,0),'W')"
   ]
  },
  {
   "cell_type": "code",
   "execution_count": 45,
   "id": "339a9de6",
   "metadata": {},
   "outputs": [
    {
     "name": "stdout",
     "output_type": "stream",
     "text": [
      "Potencia de la linea\n",
      "Pline = 231.0 W\n"
     ]
    }
   ],
   "source": [
    "nline = 2*2\n",
    "Pline = Pcooling/nline\n",
    "\n",
    "print('Potencia de la linea')\n",
    "print('Pline =',round(Pline,0),'W')"
   ]
  },
  {
   "cell_type": "code",
   "execution_count": 46,
   "id": "bfe13a89",
   "metadata": {},
   "outputs": [
    {
     "name": "stdout",
     "output_type": "stream",
     "text": [
      "Caudal del refrigerante\n",
      "Qcoolant = 5.4883589475232e-05 m^3/s\n"
     ]
    }
   ],
   "source": [
    "dTcoolant = 1.00  # C\n",
    "rhocoolant = 1000 # kg/m^3\n",
    "cpcoolant = 4200  # J/kg.C\n",
    "\n",
    "Qcoolant = Pline/(dTcoolant*rhocoolant*cpcoolant)\n",
    "print('Caudal del refrigerante')\n",
    "print('Qcoolant =',Qcoolant,'m^3/s')"
   ]
  },
  {
   "cell_type": "code",
   "execution_count": 47,
   "id": "97a5ab8a",
   "metadata": {},
   "outputs": [
    {
     "name": "stdout",
     "output_type": "stream",
     "text": [
      "Número de Reynolds = 11004.718\n"
     ]
    }
   ],
   "source": [
    "ucoolant = 0.001 # Pa.s\n",
    "D = 6.35         # mm\n",
    "\n",
    "Re = 4*rhocoolant*Qcoolant/(np.pi*ucoolant*D*1e-3)\n",
    "print('Número de Reynolds =', round(Re, 3))"
   ]
  },
  {
   "cell_type": "code",
   "execution_count": 48,
   "id": "3bcf4189",
   "metadata": {},
   "outputs": [
    {
     "name": "stdout",
     "output_type": "stream",
     "text": [
      "Caida de presion en la linea\n",
      "dPline = 6.97 kPa\n"
     ]
    }
   ],
   "source": [
    "Lline = 0.250 * 3 # m\n",
    "dPline = rhocoolant*Lline*(Qcoolant**2)/(10*np.pi*((D/1000)**5))\n",
    "print('Caida de presion en la linea')\n",
    "print('dPline =',round(dPline*1e-3,2),'kPa')"
   ]
  }
 ],
 "metadata": {
  "kernelspec": {
   "display_name": "Python 3",
   "language": "python",
   "name": "python3"
  },
  "language_info": {
   "codemirror_mode": {
    "name": "ipython",
    "version": 3
   },
   "file_extension": ".py",
   "mimetype": "text/x-python",
   "name": "python",
   "nbconvert_exporter": "python",
   "pygments_lexer": "ipython3",
   "version": "3.8.9"
  }
 },
 "nbformat": 4,
 "nbformat_minor": 5
}
